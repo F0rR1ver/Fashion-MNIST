{
 "cells": [
  {
   "cell_type": "markdown",
   "metadata": {},
   "source": [
    "# COMP4318 & 5318 - Machine Learning and Data Mining: Assignment 1"
   ]
  },
  {
   "cell_type": "markdown",
   "metadata": {},
   "source": [
    "Due: Sunday Week 7 - Sep 15th, 2024 11:59PM"
   ]
  },
  {
   "cell_type": "markdown",
   "metadata": {
    "nbpresent": {
     "id": "375753da-1c6c-4b02-986a-6e3b185a5869"
    }
   },
   "source": [
    "# 1. Summary\n",
    "\n",
    "In this assignment, you are tasked with the challenge of developing machine learning (ML) classifiers capable of categorizing grayscale images into predefined classes. Your task involves employing various classification algorithms to identify which is most effective and efficient in processing image data. Additionally, you are required to document your methodologies and findings in a detailed report. The total score for this assignment is allocated as follows:\n",
    "\n",
    "1. Code: max 65 points\n",
    "2. Report: max 35 points\n",
    "\n",
    "Detailed about assignment specifcations and scoring criteria can be found in the assignment page on Canvas (Assignments $\\rightarrow$ Assignment 1 - Specification). The sections below provide comprehensive information on the assignment tasks and guidelines for submission."
   ]
  },
  {
   "cell_type": "markdown",
   "metadata": {},
   "source": [
    "# 2. Dataset description\n"
   ]
  },
  {
   "cell_type": "markdown",
   "metadata": {},
   "source": [
    "The dataset for this assignment is derived from the [Fashion-MNIST dataset](https://github.com/zalandoresearch/fashion-mnist), a collection of fashion articles represented as grayscale images. This dataset can be downloaded from Canvas. The dataset consists of a training set of 30,000 examples and a test set of 5,000 examples. They belong to 10 different categories. The validation set is not provided, but you can randomly pick a subset of the training set for validation. Your prediction over the test set must be submitted to Kaggle to receive the public accuracy over first 2,000 examples, you will use this accuracy to analyse the performance of your proposed method. It is NOT allowed to use any examples from the test set for training; or it will be considered as cheating. The rest 3,000 labels of the test set are reserved for marking purpose.\n",
    "\n",
    "Data samples are categorized into the following ten classes:\n",
    "\n",
    "- 0: T-shirt/Top\n",
    "- 1: Trouser\n",
    "- 2: Pullover\n",
    "- 3: Dress\n",
    "- 4: Coat\n",
    "- 5: Sandal\n",
    "- 6: Shirt\n",
    "- 7: Sneaker\n",
    "- 8: Bag\n",
    "- 9: Ankle boot"
   ]
  },
  {
   "cell_type": "markdown",
   "metadata": {},
   "source": [
    "\n",
    "Below are visual examples of the dataset, showcasing samples from each category:"
   ]
  },
  {
   "cell_type": "markdown",
   "metadata": {},
   "source": [
    "<img src=\"https://www.researchgate.net/publication/346405197/figure/fig3/AS:962581560848384@1606508736352/Examples-of-Fashion-MNIST-dataset.ppm\" alt=\"DataSet\" title=\"DataSet\" width=500/>"
   ]
  },
  {
   "cell_type": "markdown",
   "metadata": {},
   "source": [
    "The dataset can be downloaded from the Assignment 1 page on Canvas. Note that only a subset of the original Fashion-MNIST dataset is provided for this assignment. You must use the specific files supplied in the assignment materials for training and testing."
   ]
  },
  {
   "cell_type": "markdown",
   "metadata": {},
   "source": [
    "# 3. Data Preparation"
   ]
  },
  {
   "cell_type": "markdown",
   "metadata": {},
   "source": [
    "The required `data` files are in the data folder, downloadable as a zip from the Assignment 1 - Specification page on Canvas. Extract the files into your working directory. The folder includes:\n",
    "\n",
    "- `train.csv`: 30,000 labeled samples for training, evaluation, and model selection.\n",
    "- `test1.csv`: 2,000 labeled samples for model efficiency testing (Canvas submission).\n",
    "- `test2.csv`: 5,000 unlabeled samples for Kaggle evaluation.\n",
    "- `sample.csv`: A sample prediction file format for Kaggle submission (`test_output.csv`).\n",
    "\n",
    "Use Python's pandas library to load these CSV files into DataFrames, ensuring they are under the `./data/` directory."
   ]
  },
  {
   "cell_type": "markdown",
   "metadata": {},
   "source": [
    "## 3.1 Loading data"
   ]
  },
  {
   "cell_type": "markdown",
   "metadata": {},
   "source": [
    "Use the following Python code to load the training data:  "
   ]
  },
  {
   "cell_type": "code",
   "execution_count": 1,
   "metadata": {},
   "outputs": [
    {
     "name": "stdout",
     "output_type": "stream",
     "text": [
      "['sample.csv', 'test1.csv', 'test2.csv', 'train.csv']\n"
     ]
    }
   ],
   "source": [
    "import pandas as pd\n",
    "import os\n",
    "print(os.listdir(\"./data\"))\n",
    "pd.set_option('display.max_columns', 10)"
   ]
  },
  {
   "cell_type": "code",
   "execution_count": 2,
   "metadata": {},
   "outputs": [],
   "source": [
    "# train.csv including feature and label using for training model.\n",
    "data_train_df = pd.read_csv('./data/train.csv') "
   ]
  },
  {
   "cell_type": "code",
   "execution_count": 3,
   "metadata": {},
   "outputs": [
    {
     "data": {
      "text/html": [
       "<div>\n",
       "<style scoped>\n",
       "    .dataframe tbody tr th:only-of-type {\n",
       "        vertical-align: middle;\n",
       "    }\n",
       "\n",
       "    .dataframe tbody tr th {\n",
       "        vertical-align: top;\n",
       "    }\n",
       "\n",
       "    .dataframe thead th {\n",
       "        text-align: right;\n",
       "    }\n",
       "</style>\n",
       "<table border=\"1\" class=\"dataframe\">\n",
       "  <thead>\n",
       "    <tr style=\"text-align: right;\">\n",
       "      <th></th>\n",
       "      <th>id</th>\n",
       "      <th>v1</th>\n",
       "      <th>v2</th>\n",
       "      <th>v3</th>\n",
       "      <th>v4</th>\n",
       "      <th>...</th>\n",
       "      <th>v781</th>\n",
       "      <th>v782</th>\n",
       "      <th>v783</th>\n",
       "      <th>v784</th>\n",
       "      <th>label</th>\n",
       "    </tr>\n",
       "  </thead>\n",
       "  <tbody>\n",
       "    <tr>\n",
       "      <th>0</th>\n",
       "      <td>1</td>\n",
       "      <td>0</td>\n",
       "      <td>0</td>\n",
       "      <td>0</td>\n",
       "      <td>0</td>\n",
       "      <td>...</td>\n",
       "      <td>0</td>\n",
       "      <td>0</td>\n",
       "      <td>0</td>\n",
       "      <td>0</td>\n",
       "      <td>6</td>\n",
       "    </tr>\n",
       "    <tr>\n",
       "      <th>1</th>\n",
       "      <td>2</td>\n",
       "      <td>0</td>\n",
       "      <td>0</td>\n",
       "      <td>0</td>\n",
       "      <td>0</td>\n",
       "      <td>...</td>\n",
       "      <td>0</td>\n",
       "      <td>0</td>\n",
       "      <td>0</td>\n",
       "      <td>0</td>\n",
       "      <td>7</td>\n",
       "    </tr>\n",
       "    <tr>\n",
       "      <th>2</th>\n",
       "      <td>3</td>\n",
       "      <td>0</td>\n",
       "      <td>0</td>\n",
       "      <td>0</td>\n",
       "      <td>0</td>\n",
       "      <td>...</td>\n",
       "      <td>0</td>\n",
       "      <td>0</td>\n",
       "      <td>0</td>\n",
       "      <td>0</td>\n",
       "      <td>4</td>\n",
       "    </tr>\n",
       "    <tr>\n",
       "      <th>3</th>\n",
       "      <td>4</td>\n",
       "      <td>0</td>\n",
       "      <td>0</td>\n",
       "      <td>0</td>\n",
       "      <td>0</td>\n",
       "      <td>...</td>\n",
       "      <td>0</td>\n",
       "      <td>0</td>\n",
       "      <td>0</td>\n",
       "      <td>0</td>\n",
       "      <td>7</td>\n",
       "    </tr>\n",
       "    <tr>\n",
       "      <th>4</th>\n",
       "      <td>5</td>\n",
       "      <td>0</td>\n",
       "      <td>0</td>\n",
       "      <td>0</td>\n",
       "      <td>0</td>\n",
       "      <td>...</td>\n",
       "      <td>0</td>\n",
       "      <td>0</td>\n",
       "      <td>0</td>\n",
       "      <td>0</td>\n",
       "      <td>3</td>\n",
       "    </tr>\n",
       "  </tbody>\n",
       "</table>\n",
       "<p>5 rows × 786 columns</p>\n",
       "</div>"
      ],
      "text/plain": [
       "   id  v1  v2  v3  v4  ...  v781  v782  v783  v784  label\n",
       "0   1   0   0   0   0  ...     0     0     0     0      6\n",
       "1   2   0   0   0   0  ...     0     0     0     0      7\n",
       "2   3   0   0   0   0  ...     0     0     0     0      4\n",
       "3   4   0   0   0   0  ...     0     0     0     0      7\n",
       "4   5   0   0   0   0  ...     0     0     0     0      3\n",
       "\n",
       "[5 rows x 786 columns]"
      ]
     },
     "execution_count": 3,
     "metadata": {},
     "output_type": "execute_result"
    }
   ],
   "source": [
    "# print out the first 5 rows of the training dataframe\n",
    "data_train_df.head()"
   ]
  },
  {
   "cell_type": "markdown",
   "metadata": {},
   "source": [
    "Then data would be a dataframe with 30,000 samples including 784 features (from v1 to v784) and its label."
   ]
  },
  {
   "cell_type": "code",
   "execution_count": 4,
   "metadata": {},
   "outputs": [],
   "source": [
    "# Selecting input feature\n",
    "data_train_feature = data_train_df.loc[:, \"v1\":\"v784\"].to_numpy()\n",
    "\n",
    "# Selecting output lable \n",
    "data_train_label = data_train_df.label.to_numpy()"
   ]
  },
  {
   "cell_type": "markdown",
   "metadata": {},
   "source": [
    "Showing a sample data. The first example belongs to class 2: Pullover"
   ]
  },
  {
   "cell_type": "code",
   "execution_count": 5,
   "metadata": {},
   "outputs": [
    {
     "data": {
      "image/png": "[encoded data removed]",
      "text/plain": [
       "<Figure size 300x300 with 1 Axes>"
      ]
     },
     "metadata": {},
     "output_type": "display_data"
    }
   ],
   "source": [
    "import matplotlib.pyplot as plt\n",
    "data_train_feature = data_train_feature.reshape((data_train_feature.shape[0], 28, 28))\n",
    "plt.figure(figsize=(3,3))\n",
    "plt.imshow(data_train_feature[0], cmap=plt.get_cmap('gray'))\n",
    "plt.title(\"class \" + str(data_train_label[0]))\n",
    "plt.show()"
   ]
  },
  {
   "cell_type": "markdown",
   "metadata": {
    "nbpresent": {
     "id": "1e4a01db-cd92-48f8-bdaa-21c39456cfcb"
    }
   },
   "source": [
    "# 4. Task Description"
   ]
  },
  {
   "cell_type": "markdown",
   "metadata": {},
   "source": [
    "## 4.1 Code"
   ]
  },
  {
   "cell_type": "markdown",
   "metadata": {},
   "source": [
    "You will now explore and build diffferent ML models for the given dataset. You are required to implement at least **FOUR** models, which should include THREE from the following methods:\n",
    "\n",
    "1. Nearest Neighbor\n",
    "2. Logistic Regression\n",
    "3. Naïve Bayes \n",
    "4. Decision Tree\n",
    "5. SVM\n",
    "\n",
    "and ONE of these ensemble methods:\n",
    "    \n",
    " 1. Bagging\n",
    " 2. Boosting\n",
    " 3. Random forest\n",
    "    \n",
    "\n",
    "For these implementations, you may use established packages and libraries that have been introduced in the tutorials such as sklearn or create your own custom solutions from scratch."
   ]
  },
  {
   "cell_type": "markdown",
   "metadata": {},
   "source": [
    "Your code must be easily readable and well commented. The following are expected to be satisfied:\n",
    "\n",
    "- **Readability & Consistency**: Easy to read, and consistent in style\n",
    "  \n",
    "- **Coding Descriptions & Comments**: Descriptions and comments clarify meaning where needed\n",
    "  \n",
    "- **Robustness**: Handles erroneous or unexpected input \n",
    "\n",
    "It should follow the structure below."
   ]
  },
  {
   "cell_type": "markdown",
   "metadata": {},
   "source": [
    "### 4.1.1 Environment Setup"
   ]
  },
  {
   "cell_type": "markdown",
   "metadata": {},
   "source": [
    "Install and import necessary packages and libraries used in your coding environment. It is recommended to specify their versions to ensure reproducibility."
   ]
  },
  {
   "cell_type": "code",
   "execution_count": 81,
   "metadata": {},
   "outputs": [],
   "source": [
    "# TODO: Install and import necessary libraries\n",
    "\n",
    "import pandas as pd # pandas 2.2.2\n",
    "import time # python 3.12.4\n",
    "import seaborn as sns # seaborn 0.13.2\n",
    "import matplotlib.pyplot as plt # matplotlib 3.9.4\n",
    "\n",
    "# scikit-learn 1.4.2\n",
    "from sklearn.preprocessing import MinMaxScaler\n",
    "from sklearn.model_selection import train_test_split\n",
    "from sklearn.metrics import accuracy_score,f1_score,precision_score,recall_score\n",
    "from sklearn.model_selection import RandomizedSearchCV\n",
    "\n",
    "from sklearn.neighbors import KNeighborsClassifier\n",
    "from sklearn.tree import DecisionTreeClassifier\n",
    "from sklearn.svm import SVC\n",
    "from sklearn.ensemble import RandomForestClassifier\n"
   ]
  },
  {
   "cell_type": "markdown",
   "metadata": {},
   "source": [
    "Define any necessary utility or helper functions (e.g., for plotting, optimization, etc.) if applicable."
   ]
  },
  {
   "cell_type": "code",
   "execution_count": 8,
   "metadata": {},
   "outputs": [],
   "source": [
    "# TODO: Define helper function (e.g. plotting) if applicable"
   ]
  },
  {
   "cell_type": "markdown",
   "metadata": {},
   "source": [
    "### 4.1.2 Data Preprocessing"
   ]
  },
  {
   "cell_type": "markdown",
   "metadata": {},
   "source": [
    "Implement at least ONE preprocessing technique on the dataset before model training. Possible methods include **Normalization**, **Dimensionality Reduction**, etc."
   ]
  },
  {
   "cell_type": "code",
   "execution_count": 35,
   "metadata": {},
   "outputs": [
    {
     "name": "stdout",
     "output_type": "stream",
     "text": [
      "(24000, 784) (6000, 784) (2000, 784) (24000,) (6000,) (2000,) (5000, 784)\n"
     ]
    }
   ],
   "source": [
    "# TODO: Implement Preprocessing Techniques\n",
    "\n",
    "# Split the traning data to into training and validation sets\n",
    "# Normalizition and split the traning and test data\n",
    "\n",
    "def normalized_and_split_data(data_train_df, test1_df, test2_df):\n",
    "    # initialize MinMaxScaler\n",
    "    scaler = MinMaxScaler()\n",
    "\n",
    "    # Selecting features and label from training data\n",
    "    x = data_train_df.loc[:, \"v1\":\"v784\"].to_numpy() # training feature (v1 - v784)\n",
    "    y = data_train_df['label'].to_numpy() # training label\n",
    "    \n",
    "    # split the data into training and validation sets\n",
    "    x_train, x_val, y_train, y_val = train_test_split(x, y, test_size=0.2, random_state=42)\n",
    "\n",
    "    # Normalize the training and validation data \n",
    "    x_train = scaler.fit_transform(x_train)  # fit and transform the training data\n",
    "    x_val = scaler.transform(x_val)  # only transform the validation data \n",
    "\n",
    "    # test1 data and applying the same scaler\n",
    "    x_test = test1_df.drop(columns=['id','label']).to_numpy() # test1 feature\n",
    "    y_test = test1_df['label'].to_numpy() # test1 label\n",
    "    x_test = scaler.transform(x_test) # Normalize the test1 feature\n",
    "\n",
    "    # test2 data and applying the same scaler\n",
    "    x_test_kaggle = test2_df.drop(columns=['id']).to_numpy()  # test2 feature\n",
    "    x_test_kaggle = scaler.transform(x_test_kaggle)  # Normalize the test2 feature\n",
    "\n",
    "    return x_train,x_val,x_test,y_train,y_val,y_test,x_test_kaggle\n",
    "\n",
    "# load the training and testing data\n",
    "data_train_df = pd.read_csv('./data/train.csv') \n",
    "test1_df = pd.read_csv('./data/test1.csv')\n",
    "test2_df = pd.read_csv('./data/test2.csv')\n",
    "\n",
    "# print the results\n",
    "x_train, x_val, x_test, y_train, y_val, y_test, x_test_kaggle = normalized_and_split_data(data_train_df, test1_df, test2_df)\n",
    "print(x_train.shape,x_val.shape,x_test.shape,y_train.shape,y_val.shape,y_test.shape,x_test_kaggle.shape)"
   ]
  },
  {
   "cell_type": "markdown",
   "metadata": {},
   "source": [
    "### 4.1.3 Model 1"
   ]
  },
  {
   "cell_type": "markdown",
   "metadata": {},
   "source": [
    "#### Implementation"
   ]
  },
  {
   "cell_type": "markdown",
   "metadata": {},
   "source": [
    "Implement the initial version of your model using a set of predefined hyperparameters. This will establish a baseline from which improvements can be made."
   ]
  },
  {
   "cell_type": "code",
   "execution_count": 10,
   "metadata": {},
   "outputs": [],
   "source": [
    "# TODO: Implement model 1 \n",
    "\n",
    "# KNN (Base)\n",
    "def train_knn_base(x_train,y_train,x_val,y_val,x_test,y_test):\n",
    "    # initialize KNN model\n",
    "    model = KNeighborsClassifier()\n",
    "\n",
    "    # training model\n",
    "    model.fit(x_train, y_train)\n",
    "\n",
    "    # predict\n",
    "    y_train_pred = model.predict(x_train)\n",
    "    y_val_pred = model.predict(x_val)\n",
    "    y_test_pred = model.predict(x_test)\n",
    "\n",
    "    # accuracy\n",
    "    train_acc = accuracy_score(y_train,y_train_pred)\n",
    "    val_acc = accuracy_score(y_val,y_val_pred)\n",
    "    test_acc = accuracy_score(y_test,y_test_pred)\n",
    "\n",
    "    # print\n",
    "    print(f\"Train Accuracy: {train_acc:.3f}, Validation Accuracy: {val_acc:.3f}, Test Accuracy: {test_acc:.3f}\")\n",
    "\n",
    "    return model, train_acc, val_acc, test_acc"
   ]
  },
  {
   "cell_type": "code",
   "execution_count": 11,
   "metadata": {},
   "outputs": [
    {
     "name": "stdout",
     "output_type": "stream",
     "text": [
      "Train Accuracy: 0.885, Validation Accuracy: 0.843, Test Accuracy: 0.844\n"
     ]
    },
    {
     "data": {
      "text/plain": [
       "(KNeighborsClassifier(), 0.88525, 0.843, 0.844)"
      ]
     },
     "execution_count": 11,
     "metadata": {},
     "output_type": "execute_result"
    }
   ],
   "source": [
    "# training result\n",
    "train_knn_base(x_train, y_train, x_val, y_val, x_test, y_test)"
   ]
  },
  {
   "cell_type": "markdown",
   "metadata": {},
   "source": [
    "#### Hyper-parameters Tuning"
   ]
  },
  {
   "cell_type": "markdown",
   "metadata": {},
   "source": [
    "Enhance your model by fine-tuning its hyperparameters. Use techniques such as grid search combined with k-fold cross-validation to systematically identify the optimal parameter set."
   ]
  },
  {
   "cell_type": "code",
   "execution_count": 12,
   "metadata": {},
   "outputs": [],
   "source": [
    "# TODO: Fine-tune the hyperparameters of model 1\n",
    "\n",
    "# KNN (use random search)\n",
    "def train_knn(x_train,y_train,x_val,y_val,x_test,y_test):\n",
    "    # initialize KNN model\n",
    "    model = KNeighborsClassifier()\n",
    "\n",
    "    # start time\n",
    "    start_time = time.time()\n",
    "\n",
    "    # define Hyper-parameters Tuning\n",
    "    param_dist ={\n",
    "        'n_neighbors': range(1,31),\n",
    "        'weights': ['uniform', 'distance'],\n",
    "        'p': [1,2]\n",
    "    }\n",
    "\n",
    "    #Use Randomized Search + Cross-Validation\n",
    "    random_search = RandomizedSearchCV(\n",
    "                                        estimator=model,                # KNN model\n",
    "                                        param_distributions=param_dist, # Parameters\n",
    "                                        scoring='accuracy',             # model evaluation is accuracy\n",
    "                                        n_iter=20,                      # 20 iterations of random search\n",
    "                                        cv=2,                           # 2 folds\n",
    "                                        verbose=1,                      # Output simple progress information\n",
    "                                        random_state=42)                # random seed\n",
    "    random_search.fit(x_train,y_train)\n",
    "    \n",
    "    # find best prameters\n",
    "    best_params = random_search.best_params_\n",
    "    \n",
    "    # training best model\n",
    "    best_model = random_search.best_estimator_\n",
    "    \n",
    "    # training time\n",
    "    training_time = time.time() - start_time\n",
    "    \n",
    "    # print\n",
    "    print(\"Best Parameters: \",best_params)\n",
    "    print(f\"Training Time: {training_time:.2f} seconds\")\n",
    "\n",
    "    return best_model, best_params, training_time\n",
    "\n",
    "# Reference: Randomized Search (RandomizedSearchCV())\n",
    "#https://scikit-learn.org/stable/modules/generated/sklearn.model_selection.RandomizedSearchCV.html#sklearn.model_selection.RandomizedSearchCV"
   ]
  },
  {
   "cell_type": "code",
   "execution_count": 13,
   "metadata": {},
   "outputs": [
    {
     "name": "stdout",
     "output_type": "stream",
     "text": [
      "Train KNN Classifier: \n",
      "Fitting 2 folds for each of 20 candidates, totalling 40 fits\n",
      "Best Parameters:  {'weights': 'uniform', 'p': 1, 'n_neighbors': 10}\n",
      "Training Time: 112.41 seconds\n"
     ]
    }
   ],
   "source": [
    "# Best Parameters + Training Time\n",
    "print(\"Train KNN Classifier: \")\n",
    "knn_model, knn_params, knn_training_time = train_knn(x_train, y_train, x_val, y_val, x_test, y_test)"
   ]
  },
  {
   "cell_type": "markdown",
   "metadata": {},
   "source": [
    "### 4.1.4 Model 2"
   ]
  },
  {
   "cell_type": "markdown",
   "metadata": {},
   "source": [
    "Implement and fine-tune the hyperparameters for Model 2 (using the same approach as Model 1). "
   ]
  },
  {
   "cell_type": "code",
   "execution_count": 14,
   "metadata": {},
   "outputs": [],
   "source": [
    "# TODO: Implement model 2\n",
    "\n",
    "# Decision Tree(Base)\n",
    "def train_DT_base(x_train,y_train,x_val,y_val,x_test,y_test):\n",
    "    # initialize Decision Tree model\n",
    "    model = DecisionTreeClassifier()\n",
    "\n",
    "    # training model\n",
    "    model.fit(x_train, y_train)\n",
    "\n",
    "    # predict\n",
    "    y_train_pred = model.predict(x_train)\n",
    "    y_val_pred = model.predict(x_val)\n",
    "    y_test_pred = model.predict(x_test)\n",
    "\n",
    "    # accuracy\n",
    "    train_acc = accuracy_score(y_train,y_train_pred)\n",
    "    val_acc = accuracy_score(y_val,y_val_pred)\n",
    "    test_acc = accuracy_score(y_test,y_test_pred)\n",
    "\n",
    "    # print\n",
    "    print(f\"Train Accuracy: {train_acc:.3f}, Validation Accuracy: {val_acc:.3f}, Test Accuracy: {test_acc:.3f}\")\n",
    "\n",
    "    return model, train_acc, val_acc, test_acc"
   ]
  },
  {
   "cell_type": "code",
   "execution_count": 15,
   "metadata": {},
   "outputs": [
    {
     "name": "stdout",
     "output_type": "stream",
     "text": [
      "Train Accuracy: 1.000, Validation Accuracy: 0.782, Test Accuracy: 0.771\n"
     ]
    },
    {
     "data": {
      "text/plain": [
       "(DecisionTreeClassifier(), 1.0, 0.7821666666666667, 0.771)"
      ]
     },
     "execution_count": 15,
     "metadata": {},
     "output_type": "execute_result"
    }
   ],
   "source": [
    "# training result\n",
    "train_DT_base(x_train, y_train, x_val, y_val, x_test, y_test)"
   ]
  },
  {
   "cell_type": "code",
   "execution_count": 18,
   "metadata": {},
   "outputs": [],
   "source": [
    "# TODO: Fine-tune the hyperparameters for model 2\n",
    "\n",
    "# Decision Tree\n",
    "def train_DT(x_train,y_train,x_val,y_val,x_test,y_test):\n",
    "    # initialize Decision Tree model\n",
    "    model = DecisionTreeClassifier()\n",
    "\n",
    "    # start time\n",
    "    start_time = time.time()\n",
    "\n",
    "    # define Hyper-parameters Tuning\n",
    "    param_dist ={\n",
    "        'max_depth': [None] + list(range(1,21)),\n",
    "        'min_samples_split': range(2,20),\n",
    "        'min_samples_leaf': range(1,20),\n",
    "        'max_features': [None, 'sqrt', 'log2']\n",
    "    }\n",
    "    \n",
    "    #Use Randomized Search + Cross-Validation\n",
    "    random_search = RandomizedSearchCV(\n",
    "                                        estimator=model,                # Decision Tree model\n",
    "                                        param_distributions=param_dist, # Parameters\n",
    "                                        scoring='accuracy',             # model evaluation is accuracy\n",
    "                                        n_iter=20,                      # 20 iterations of random search\n",
    "                                        cv=2,                           # 2 folds\n",
    "                                        verbose=1,                      # Output simple progress information\n",
    "                                        random_state=42)                # random seed\n",
    "    random_search.fit(x_train,y_train)\n",
    "    \n",
    "    # find best prameters\n",
    "    best_params = random_search.best_params_\n",
    "    \n",
    "    # training best model\n",
    "    best_model = random_search.best_estimator_\n",
    "    \n",
    "    # training time\n",
    "    training_time = time.time() - start_time\n",
    "    \n",
    "    # print\n",
    "    print(\"Best Parameters: \",best_params)\n",
    "    print(f\"Training Time: {training_time:.2f} seconds\")\n",
    "\n",
    "    return best_model, best_params, training_time"
   ]
  },
  {
   "cell_type": "code",
   "execution_count": 19,
   "metadata": {},
   "outputs": [
    {
     "name": "stdout",
     "output_type": "stream",
     "text": [
      "Train Decision Tree Classifier: \n",
      "Fitting 2 folds for each of 20 candidates, totalling 40 fits\n",
      "Best Parameters:  {'min_samples_split': 7, 'min_samples_leaf': 5, 'max_features': None, 'max_depth': 11}\n",
      "Training Time: 39.54 seconds\n"
     ]
    }
   ],
   "source": [
    "# Best Parameters + Training Time\n",
    "print(\"Train Decision Tree Classifier: \")\n",
    "DT_model, DT_params, DT_training_time = train_DT(x_train, y_train, x_val, y_val, x_test, y_test)"
   ]
  },
  {
   "cell_type": "markdown",
   "metadata": {},
   "source": [
    "### 4.1.5 Model 3"
   ]
  },
  {
   "cell_type": "markdown",
   "metadata": {},
   "source": [
    "Implement and fine-tune the hyperparameters for Model 3. "
   ]
  },
  {
   "cell_type": "code",
   "execution_count": 20,
   "metadata": {},
   "outputs": [],
   "source": [
    "# TODO: Implement model 3\n",
    "\n",
    "# SVM(Base)\n",
    "def train_svm_base(x_train,y_train,x_val,y_val,x_test,y_test):\n",
    "    #initialize SVM model\n",
    "    model = SVC()\n",
    "        \n",
    "    # training model\n",
    "    model.fit(x_train, y_train)\n",
    "    \n",
    "    # predict\n",
    "    y_train_pred = model.predict(x_train)\n",
    "    y_val_pred = model.predict(x_val)\n",
    "    y_test_pred = model.predict(x_test)\n",
    "\n",
    "    # accuracy\n",
    "    train_acc = accuracy_score(y_train,y_train_pred)\n",
    "    val_acc = accuracy_score(y_val,y_val_pred)\n",
    "    test_acc = accuracy_score(y_test,y_test_pred)\n",
    "    \n",
    "    # print\n",
    "    print(f\"Train Accuracy: {train_acc:.3f}, Validation Accuracy: {val_acc:.3f}, Test Accuracy: {test_acc:.3f}\")\n",
    "\n",
    "    return model, train_acc, val_acc, test_acc"
   ]
  },
  {
   "cell_type": "code",
   "execution_count": 21,
   "metadata": {},
   "outputs": [
    {
     "name": "stdout",
     "output_type": "stream",
     "text": [
      "Train Accuracy: 0.906, Validation Accuracy: 0.882, Test Accuracy: 0.884\n"
     ]
    },
    {
     "data": {
      "text/plain": [
       "(SVC(), 0.90575, 0.8825, 0.8845)"
      ]
     },
     "execution_count": 21,
     "metadata": {},
     "output_type": "execute_result"
    }
   ],
   "source": [
    "# training result\n",
    "train_svm_base(x_train,y_train,x_val,y_val,x_test,y_test)"
   ]
  },
  {
   "cell_type": "code",
   "execution_count": 46,
   "metadata": {},
   "outputs": [],
   "source": [
    "# TODO: Fine-tune the hyperparameters for model 3\n",
    "\n",
    "# SVM\n",
    "def train_svm(x_train,y_train,x_val,y_val,x_test,y_test):\n",
    "    # initialize SVM model\n",
    "    model = SVC()\n",
    "\n",
    "    # start time\n",
    "    start_time = time.time()\n",
    "\n",
    "    # define Hyper-parameters Tuning\n",
    "    param_dist ={\n",
    "        'C': [0.1,1,10,100],\n",
    "        'kernel':['linear','poly','rbf','sigmoid'],\n",
    "        'gamma':['scale','auto']\n",
    "    }\n",
    "\n",
    "    #Use Randomized Search + Cross-Validation\n",
    "    random_search = RandomizedSearchCV(\n",
    "                                        estimator=model,                # SVM model\n",
    "                                        param_distributions=param_dist, # Parameters\n",
    "                                        scoring='accuracy',             # model evaluation is accuracy\n",
    "                                        n_iter=20,                      # 20 iterations of random search\n",
    "                                        cv=2,                           # 2 folds\n",
    "                                        verbose=1,                      # Output simple progress information\n",
    "                                        random_state=42)                # random seed\n",
    "    random_search.fit(x_train,y_train)\n",
    "    \n",
    "    # find best prameters\n",
    "    best_params = random_search.best_params_\n",
    "    \n",
    "    # training best model\n",
    "    best_model = random_search.best_estimator_\n",
    "    \n",
    "    # training time\n",
    "    training_time = time.time() - start_time\n",
    "    \n",
    "    # print\n",
    "    print(\"Best Parameters: \",best_params)\n",
    "    print(f\"Training Time: {training_time:.2f} seconds\")\n",
    "\n",
    "    return best_model, best_params, training_time"
   ]
  },
  {
   "cell_type": "code",
   "execution_count": 47,
   "metadata": {},
   "outputs": [
    {
     "name": "stdout",
     "output_type": "stream",
     "text": [
      "Train SVM Classifier: \n",
      "Fitting 2 folds for each of 20 candidates, totalling 40 fits\n",
      "Best Parameters:  {'kernel': 'rbf', 'gamma': 'scale', 'C': 100}\n",
      "Training Time: 1073.11 seconds\n"
     ]
    }
   ],
   "source": [
    "# Best Parameters + Training Time\n",
    "print(\"Train SVM Classifier: \")\n",
    "svm_model, svm_params, svm_training_time = train_svm(x_train,y_train,x_val,y_val,x_test,y_test)"
   ]
  },
  {
   "cell_type": "markdown",
   "metadata": {},
   "source": [
    "### 4.1.6 Model 4"
   ]
  },
  {
   "cell_type": "markdown",
   "metadata": {},
   "source": [
    "Implement and fine-tune the hyperparameters for Model 4. "
   ]
  },
  {
   "cell_type": "code",
   "execution_count": 27,
   "metadata": {},
   "outputs": [],
   "source": [
    "# TODO: Implement model 4\n",
    "\n",
    "# Random Forest(Base)\n",
    "def train_RF_base(x_train,y_train,x_val,y_val,x_test,y_test):\n",
    "    # initialize Random Forest model\n",
    "    model = RandomForestClassifier()\n",
    "    \n",
    "    # training model\n",
    "    model.fit(x_train, y_train)\n",
    "    \n",
    "    # predict\n",
    "    y_train_pred = model.predict(x_train)\n",
    "    y_val_pred = model.predict(x_val)\n",
    "    y_test_pred = model.predict(x_test)\n",
    "\n",
    "    # accuracy\n",
    "    train_acc = accuracy_score(y_train,y_train_pred)\n",
    "    val_acc = accuracy_score(y_val,y_val_pred)\n",
    "    test_acc = accuracy_score(y_test,y_test_pred)\n",
    "    \n",
    "    # print\n",
    "    print(f\"Train Accuracy: {train_acc:.3f}, Validation Accuracy: {val_acc:.3f}, Test Accuracy: {test_acc:.3f}\")\n",
    "\n",
    "    return model, train_acc, val_acc, test_acc"
   ]
  },
  {
   "cell_type": "code",
   "execution_count": 24,
   "metadata": {},
   "outputs": [
    {
     "name": "stdout",
     "output_type": "stream",
     "text": [
      "Train Accuracy: 1.000, Validation Accuracy: 0.875, Test Accuracy: 0.879\n"
     ]
    },
    {
     "data": {
      "text/plain": [
       "(RandomForestClassifier(), 1.0, 0.875, 0.8795)"
      ]
     },
     "execution_count": 24,
     "metadata": {},
     "output_type": "execute_result"
    }
   ],
   "source": [
    "# training result\n",
    "train_RF_base(x_train,y_train,x_val,y_val,x_test,y_test)"
   ]
  },
  {
   "cell_type": "code",
   "execution_count": 50,
   "metadata": {},
   "outputs": [],
   "source": [
    "# TODO: Fine-tune the hyperparameters for model 4\n",
    "\n",
    "# Random Forest\n",
    "def train_RF(x_train,y_train,x_val,y_val,x_test,y_test):\n",
    "    # initialize Random Forest model\n",
    "    model = RandomForestClassifier()\n",
    "\n",
    "    # start time\n",
    "    start_time = time.time()\n",
    "\n",
    "    # define Hyper-parameters Tuning\n",
    "    param_dist ={\n",
    "        'n_estimators': [100,300,500],\n",
    "        'max_depth': [None] + list(range(1,21)),\n",
    "        'min_samples_split': range(2,20),\n",
    "        'min_samples_leaf': range(1,20),\n",
    "        'max_features': [None,'sqrt','log2']\n",
    "    }\n",
    "\n",
    "    #Use Randomized Search + Cross-Validation\n",
    "    random_search = RandomizedSearchCV(\n",
    "                                        estimator=model,                # Random Forest model\n",
    "                                        param_distributions=param_dist, # Parameters\n",
    "                                        scoring='accuracy',             # model evaluation is accuracy\n",
    "                                        n_iter=20,                      # 20 iterations of random search\n",
    "                                        cv=2,                           # 2 Cross Validation\n",
    "                                        verbose=1,                      # Output simple progress information\n",
    "                                        random_state=42)                # random seed\n",
    "    random_search.fit(x_train,y_train)\n",
    "    \n",
    "    # find best prameters\n",
    "    best_params = random_search.best_params_\n",
    "    \n",
    "    # training best model\n",
    "    best_model = random_search.best_estimator_\n",
    "    \n",
    "    # training time\n",
    "    training_time = time.time() - start_time\n",
    "    \n",
    "    # print\n",
    "    print(\"Best Parameters: \",best_params)\n",
    "    print(f\"Training Time: {training_time:.2f} seconds\")\n",
    "\n",
    "    return best_model, best_params, training_time"
   ]
  },
  {
   "cell_type": "code",
   "execution_count": 51,
   "metadata": {},
   "outputs": [
    {
     "name": "stdout",
     "output_type": "stream",
     "text": [
      "Train RandomForest Classifier: \n",
      "Fitting 2 folds for each of 20 candidates, totalling 40 fits\n",
      "Best Parameters:  {'n_estimators': 300, 'min_samples_split': 6, 'min_samples_leaf': 1, 'max_features': 'sqrt', 'max_depth': 14}\n",
      "Training Time: 7440.35 seconds\n"
     ]
    }
   ],
   "source": [
    "# Best Parameters + Training Time\n",
    "print(\"Train RandomForest Classifier: \")\n",
    "RF_model, RF_params, RF_training_time = train_RF(x_train, y_train, x_val, y_val, x_test, y_test)"
   ]
  },
  {
   "cell_type": "markdown",
   "metadata": {},
   "source": [
    "### 4.1.7 Evaluation"
   ]
  },
  {
   "cell_type": "markdown",
   "metadata": {},
   "source": [
    "Evaluate the best version of each model using appropriate classification performance metrics on the validation set and test on `test1.csv`. Ensure that the results are visualized using high-quality plots, figures, or tables to clearly demonstrate model performance."
   ]
  },
  {
   "cell_type": "code",
   "execution_count": 67,
   "metadata": {},
   "outputs": [
    {
     "data": {
      "text/html": [
       "<div>\n",
       "<style scoped>\n",
       "    .dataframe tbody tr th:only-of-type {\n",
       "        vertical-align: middle;\n",
       "    }\n",
       "\n",
       "    .dataframe tbody tr th {\n",
       "        vertical-align: top;\n",
       "    }\n",
       "\n",
       "    .dataframe thead th {\n",
       "        text-align: right;\n",
       "    }\n",
       "</style>\n",
       "<table border=\"1\" class=\"dataframe\">\n",
       "  <thead>\n",
       "    <tr style=\"text-align: right;\">\n",
       "      <th></th>\n",
       "      <th>Model</th>\n",
       "      <th>Best Parameters</th>\n",
       "    </tr>\n",
       "  </thead>\n",
       "  <tbody>\n",
       "    <tr>\n",
       "      <th>0</th>\n",
       "      <td>KNN Classifer</td>\n",
       "      <td>{'weights': 'uniform', 'p': 1, 'n_neighbors': 10}</td>\n",
       "    </tr>\n",
       "    <tr>\n",
       "      <th>1</th>\n",
       "      <td>Decision Tree Classifer</td>\n",
       "      <td>{'min_samples_split': 7, 'min_samples_leaf': 5, 'max_features': None, 'max_depth': 11}</td>\n",
       "    </tr>\n",
       "    <tr>\n",
       "      <th>2</th>\n",
       "      <td>SVM Classifer</td>\n",
       "      <td>{'kernel': 'rbf', 'gamma': 'scale', 'C': 100}</td>\n",
       "    </tr>\n",
       "    <tr>\n",
       "      <th>3</th>\n",
       "      <td>Random Forest Classifer</td>\n",
       "      <td>{'n_estimators': 300, 'min_samples_split': 6, 'min_samples_leaf': 1, 'max_features': 'sqrt', 'max_depth': 14}</td>\n",
       "    </tr>\n",
       "  </tbody>\n",
       "</table>\n",
       "</div>"
      ],
      "text/plain": [
       "                     Model  \\\n",
       "0            KNN Classifer   \n",
       "1  Decision Tree Classifer   \n",
       "2            SVM Classifer   \n",
       "3  Random Forest Classifer   \n",
       "\n",
       "                                                                                                 Best Parameters  \n",
       "0                                                              {'weights': 'uniform', 'p': 1, 'n_neighbors': 10}  \n",
       "1                         {'min_samples_split': 7, 'min_samples_leaf': 5, 'max_features': None, 'max_depth': 11}  \n",
       "2                                                                  {'kernel': 'rbf', 'gamma': 'scale', 'C': 100}  \n",
       "3  {'n_estimators': 300, 'min_samples_split': 6, 'min_samples_leaf': 1, 'max_features': 'sqrt', 'max_depth': 14}  "
      ]
     },
     "execution_count": 67,
     "metadata": {},
     "output_type": "execute_result"
    }
   ],
   "source": [
    "# show each models with best parameters\n",
    "def show_best_version():\n",
    "    x_train,x_val,x_test,y_train,y_val,y_test,x_test_kaggle = normalized_and_split_data(data_train_df, test1_df, test2_df)\n",
    "\n",
    "    results = {\n",
    "        'Model': [],\n",
    "        'Best Parameters': []\n",
    "    }\n",
    "\n",
    "    # KNN\n",
    "    results['Model'].append('KNN Classifer')\n",
    "    results['Best Parameters'].append(knn_params)\n",
    "\n",
    "    # Decision Tree\n",
    "    results['Model'].append('Decision Tree Classifer')\n",
    "    results['Best Parameters'].append(DT_params)\n",
    "\n",
    "    # SVM\n",
    "    results['Model'].append('SVM Classifer')\n",
    "    results['Best Parameters'].append(svm_params)\n",
    "\n",
    "    # Random Forest\n",
    "    results['Model'].append('Random Forest Classifer')\n",
    "    results['Best Parameters'].append(RF_params)\n",
    "\n",
    "    results_df = pd.DataFrame(results)\n",
    "    return results_df\n",
    "\n",
    "pd.set_option('display.max_colwidth', None)\n",
    "results_best_version = show_best_version()\n",
    "results_best_version"
   ]
  },
  {
   "cell_type": "code",
   "execution_count": 30,
   "metadata": {},
   "outputs": [
    {
     "name": "stdout",
     "output_type": "stream",
     "text": [
      "Train Accuracy: 0.8658, F1 Score: 0.8641\n",
      "Validation Accuracy: 0.8507, F1 Score: 0.8499\n",
      "Test Accuracy: 0.8505, F1 Score: 0.8495\n",
      "Inference Time: 20.09 seconds\n"
     ]
    }
   ],
   "source": [
    "# KNN(best)\n",
    "def train_knn_best(x_train,y_train,x_val,y_val,x_test,y_test):\n",
    "    # start time\n",
    "    start_time = time.time()\n",
    "\n",
    "    # KNN with best parameters\n",
    "    best_knn = KNeighborsClassifier(weights='uniform', p=1, n_neighbors=10)\n",
    "    best_knn.fit(x_train, y_train)\n",
    "\n",
    "    # predict\n",
    "    y_train_pred = best_knn.predict(x_train)\n",
    "    y_val_pred = best_knn.predict(x_val)\n",
    "    y_test_pred = best_knn.predict(x_test)\n",
    "\n",
    "    # accuracy\n",
    "    train_acc = accuracy_score(y_train,y_train_pred)\n",
    "    val_acc = accuracy_score(y_val,y_val_pred)\n",
    "    test_acc = accuracy_score(y_test,y_test_pred)\n",
    "\n",
    "    # F1\n",
    "    train_f1 = f1_score(y_train, y_train_pred, average='weighted')\n",
    "    val_f1 = f1_score(y_val, y_val_pred, average='weighted')\n",
    "    test_f1 = f1_score(y_test, y_test_pred, average='weighted')\n",
    "\n",
    "    # inference time\n",
    "    inference_time = time.time() - start_time\n",
    "    \n",
    "    # print\n",
    "    print(f\"Train Accuracy: {train_acc:.4f}, F1 Score: {train_f1:.4f}\")\n",
    "    print(f\"Validation Accuracy: {val_acc:.4f}, F1 Score: {val_f1:.4f}\")\n",
    "    print(f\"Test Accuracy: {test_acc:.4f}, F1 Score: {test_f1:.4f}\")\n",
    "    print(f\"Inference Time: {inference_time:.2f} seconds\")\n",
    "\n",
    "    return best_knn,train_acc,train_f1,val_acc,val_f1,test_acc,test_f1,inference_time\n",
    "\n",
    "best_knn,knn_train_acc,knn_train_f1,knn_val_acc,knn_val_f1,knn_test_acc,knn_test_f1,knn_interface_time = train_knn_best(x_train,y_train,x_val,y_val,x_test,y_test)"
   ]
  },
  {
   "cell_type": "code",
   "execution_count": 42,
   "metadata": {},
   "outputs": [
    {
     "name": "stdout",
     "output_type": "stream",
     "text": [
      "Train Accuracy: 0.8681, F1 Score: 0.8690\n",
      "Validation Accuracy: 0.7995, F1 Score: 0.8013\n",
      "Test Accuracy: 0.7860, F1 Score: 0.7873\n",
      "Inference Time: 4.97 seconds\n"
     ]
    }
   ],
   "source": [
    "# Decision Tree(best)\n",
    "def train_DT_best(x_train,y_train,x_val,y_val,x_test,y_test):\n",
    "    # start time\n",
    "    start_time = time.time()\n",
    "    \n",
    "    # Decision Tree with best parameters\n",
    "    best_dt = DecisionTreeClassifier(min_samples_split=7, min_samples_leaf=5, max_features=None, max_depth=11)\n",
    "    best_dt.fit(x_train, y_train)\n",
    "\n",
    "    # predict\n",
    "    y_train_pred = best_dt.predict(x_train)\n",
    "    y_val_pred = best_dt.predict(x_val)\n",
    "    y_test_pred = best_dt.predict(x_test)\n",
    "\n",
    "    # accuracy\n",
    "    train_acc = accuracy_score(y_train,y_train_pred)\n",
    "    val_acc = accuracy_score(y_val,y_val_pred)\n",
    "    test_acc = accuracy_score(y_test,y_test_pred)\n",
    "\n",
    "    # F1\n",
    "    train_f1 = f1_score(y_train, y_train_pred, average='weighted')\n",
    "    val_f1 = f1_score(y_val, y_val_pred, average='weighted')\n",
    "    test_f1 = f1_score(y_test, y_test_pred, average='weighted')\n",
    "\n",
    "    # inference time\n",
    "    inference_time = time.time() - start_time\n",
    "    \n",
    "    # print\n",
    "    print(f\"Train Accuracy: {train_acc:.4f}, F1 Score: {train_f1:.4f}\")\n",
    "    print(f\"Validation Accuracy: {val_acc:.4f}, F1 Score: {val_f1:.4f}\")\n",
    "    print(f\"Test Accuracy: {test_acc:.4f}, F1 Score: {test_f1:.4f}\")\n",
    "    print(f\"Inference Time: {inference_time:.2f} seconds\")\n",
    "\n",
    "    return best_knn,train_acc,train_f1,val_acc,val_f1,test_acc,test_f1,inference_time\n",
    "\n",
    "best_dt,dt_train_acc,dt_train_f1,dt_val_acc,dt_val_f1,dt_test_acc,dt_test_f1,dt_inference_time = train_DT_best(x_train,y_train,x_val,y_val,x_test,y_test)\n"
   ]
  },
  {
   "cell_type": "code",
   "execution_count": 32,
   "metadata": {},
   "outputs": [
    {
     "name": "stdout",
     "output_type": "stream",
     "text": [
      "Train Accuracy: 1.0000, F1 Score: 1.0000\n",
      "Validation Accuracy: 0.8910, F1 Score: 0.8907\n",
      "Test Accuracy: 0.8925, F1 Score: 0.8919\n",
      "Inference Time: 140.96 seconds\n"
     ]
    }
   ],
   "source": [
    "# SVM(best)\n",
    "def train_svm_best(x_train,y_train,x_val,y_val,x_test,y_test):\n",
    "    # start time\n",
    "    start_time = time.time()\n",
    "    \n",
    "    # SVM with best parameters\n",
    "    best_svm = SVC(kernel='rbf', gamma='scale', C=100)\n",
    "    best_svm.fit(x_train, y_train)\n",
    "\n",
    "    # predict\n",
    "    y_train_pred = best_svm.predict(x_train)\n",
    "    y_val_pred = best_svm.predict(x_val)\n",
    "    y_test_pred = best_svm.predict(x_test)\n",
    "\n",
    "    # accuracy\n",
    "    train_acc = accuracy_score(y_train,y_train_pred)\n",
    "    val_acc = accuracy_score(y_val,y_val_pred)\n",
    "    test_acc = accuracy_score(y_test,y_test_pred)\n",
    "\n",
    "    # F1\n",
    "    train_f1 = f1_score(y_train, y_train_pred, average='weighted')\n",
    "    val_f1 = f1_score(y_val, y_val_pred, average='weighted')\n",
    "    test_f1 = f1_score(y_test, y_test_pred, average='weighted')\n",
    "\n",
    "    # inference time\n",
    "    inference_time = time.time() - start_time\n",
    "    \n",
    "    # print\n",
    "    print(f\"Train Accuracy: {train_acc:.4f}, F1 Score: {train_f1:.4f}\")\n",
    "    print(f\"Validation Accuracy: {val_acc:.4f}, F1 Score: {val_f1:.4f}\")\n",
    "    print(f\"Test Accuracy: {test_acc:.4f}, F1 Score: {test_f1:.4f}\")\n",
    "    print(f\"Inference Time: {inference_time:.2f} seconds\")\n",
    "\n",
    "    return best_knn,train_acc,train_f1,val_acc,val_f1,test_acc,test_f1,inference_time\n",
    "\n",
    "best_svm,svm_train_acc,svm_train_f1,svm_val_acc,svm_val_f1,svm_test_acc,svm_test_f1,svm_inference_time = train_svm_best(x_train,y_train,x_val,y_val,x_test,y_test)"
   ]
  },
  {
   "cell_type": "code",
   "execution_count": 33,
   "metadata": {},
   "outputs": [
    {
     "name": "stdout",
     "output_type": "stream",
     "text": [
      "Train Accuracy: 0.9665, F1 Score: 0.9664\n",
      "Validation Accuracy: 0.8743, F1 Score: 0.8730\n",
      "Test Accuracy: 0.8765, F1 Score: 0.8745\n",
      "Inference Time: 49.13 seconds\n"
     ]
    }
   ],
   "source": [
    "# Random Forest(best)\n",
    "def train_RF_best(x_train,y_train,x_val,y_val,x_test,y_test):\n",
    "    # start time\n",
    "    start_time = time.time()\n",
    "    \n",
    "    # Random Forest with best parameters\n",
    "    best_rf = RandomForestClassifier(n_estimators=300, min_samples_split=6, min_samples_leaf=1, max_features='sqrt', max_depth=14)\n",
    "    best_rf.fit(x_train, y_train)\n",
    "\n",
    "    # predict\n",
    "    y_train_pred = best_rf.predict(x_train)\n",
    "    y_val_pred = best_rf.predict(x_val)\n",
    "    y_test_pred = best_rf.predict(x_test)\n",
    "\n",
    "    # accuracy\n",
    "    train_acc = accuracy_score(y_train,y_train_pred)\n",
    "    val_acc = accuracy_score(y_val,y_val_pred)\n",
    "    test_acc = accuracy_score(y_test,y_test_pred)\n",
    "\n",
    "    # F1\n",
    "    train_f1 = f1_score(y_train, y_train_pred, average='weighted')\n",
    "    val_f1 = f1_score(y_val, y_val_pred, average='weighted')\n",
    "    test_f1 = f1_score(y_test, y_test_pred, average='weighted')\n",
    "\n",
    "    # inference time\n",
    "    inference_time = time.time() - start_time\n",
    "    \n",
    "    # print\n",
    "    print(f\"Train Accuracy: {train_acc:.4f}, F1 Score: {train_f1:.4f}\")\n",
    "    print(f\"Validation Accuracy: {val_acc:.4f}, F1 Score: {val_f1:.4f}\")\n",
    "    print(f\"Test Accuracy: {test_acc:.4f}, F1 Score: {test_f1:.4f}\")\n",
    "    print(f\"Inference Time: {inference_time:.2f} seconds\")\n",
    "\n",
    "    return best_knn,train_acc,train_f1,val_acc,val_f1,test_acc,test_f1,inference_time\n",
    "\n",
    "best_rf,rf_train_acc,rf_train_f1,rf_val_acc,rf_val_f1,rf_test_acc,rf_test_f1,rf_inference_time = train_RF_best(x_train,y_train,x_val,y_val,x_test,y_test)"
   ]
  },
  {
   "cell_type": "code",
   "execution_count": 54,
   "metadata": {},
   "outputs": [
    {
     "data": {
      "text/html": [
       "<div>\n",
       "<style scoped>\n",
       "    .dataframe tbody tr th:only-of-type {\n",
       "        vertical-align: middle;\n",
       "    }\n",
       "\n",
       "    .dataframe tbody tr th {\n",
       "        vertical-align: top;\n",
       "    }\n",
       "\n",
       "    .dataframe thead th {\n",
       "        text-align: right;\n",
       "    }\n",
       "</style>\n",
       "<table border=\"1\" class=\"dataframe\">\n",
       "  <thead>\n",
       "    <tr style=\"text-align: right;\">\n",
       "      <th></th>\n",
       "      <th>Model</th>\n",
       "      <th>Train Accuracy</th>\n",
       "      <th>Train F1 Score</th>\n",
       "      <th>Validation Accuracy</th>\n",
       "      <th>Validation F1 Score</th>\n",
       "      <th>Test Accuracy</th>\n",
       "      <th>Test F1 Score</th>\n",
       "    </tr>\n",
       "  </thead>\n",
       "  <tbody>\n",
       "    <tr>\n",
       "      <th>0</th>\n",
       "      <td>KNN Classifer</td>\n",
       "      <td>0.865792</td>\n",
       "      <td>0.864130</td>\n",
       "      <td>0.850667</td>\n",
       "      <td>0.849899</td>\n",
       "      <td>0.8505</td>\n",
       "      <td>0.849536</td>\n",
       "    </tr>\n",
       "    <tr>\n",
       "      <th>1</th>\n",
       "      <td>Decision Tree Classifer</td>\n",
       "      <td>0.868125</td>\n",
       "      <td>0.868985</td>\n",
       "      <td>0.799500</td>\n",
       "      <td>0.801332</td>\n",
       "      <td>0.7860</td>\n",
       "      <td>0.787335</td>\n",
       "    </tr>\n",
       "    <tr>\n",
       "      <th>2</th>\n",
       "      <td>SVM Classifer</td>\n",
       "      <td>0.999958</td>\n",
       "      <td>0.999958</td>\n",
       "      <td>0.891000</td>\n",
       "      <td>0.890732</td>\n",
       "      <td>0.8925</td>\n",
       "      <td>0.891899</td>\n",
       "    </tr>\n",
       "    <tr>\n",
       "      <th>3</th>\n",
       "      <td>Random Forest Classifer</td>\n",
       "      <td>0.966500</td>\n",
       "      <td>0.966395</td>\n",
       "      <td>0.874333</td>\n",
       "      <td>0.872956</td>\n",
       "      <td>0.8765</td>\n",
       "      <td>0.874534</td>\n",
       "    </tr>\n",
       "  </tbody>\n",
       "</table>\n",
       "</div>"
      ],
      "text/plain": [
       "                     Model  Train Accuracy  Train F1 Score  \\\n",
       "0            KNN Classifer        0.865792        0.864130   \n",
       "1  Decision Tree Classifer        0.868125        0.868985   \n",
       "2            SVM Classifer        0.999958        0.999958   \n",
       "3  Random Forest Classifer        0.966500        0.966395   \n",
       "\n",
       "   Validation Accuracy  Validation F1 Score  Test Accuracy  Test F1 Score  \n",
       "0             0.850667             0.849899         0.8505       0.849536  \n",
       "1             0.799500             0.801332         0.7860       0.787335  \n",
       "2             0.891000             0.890732         0.8925       0.891899  \n",
       "3             0.874333             0.872956         0.8765       0.874534  "
      ]
     },
     "execution_count": 54,
     "metadata": {},
     "output_type": "execute_result"
    }
   ],
   "source": [
    "# show each models' accuracy and f1 score on the train,validation and test data sets\n",
    "def evaluation_acc():\n",
    "    x_train,x_val,x_test,y_train,y_val,y_test,x_test_kaggle = normalized_and_split_data(data_train_df, test1_df, test2_df)\n",
    "\n",
    "    results = {\n",
    "        'Model': [],\n",
    "        'Train Accuracy': [],\n",
    "        'Train F1 Score': [],\n",
    "        'Validation Accuracy': [],\n",
    "        'Validation F1 Score': [],\n",
    "        'Test Accuracy': [],\n",
    "        'Test F1 Score': []\n",
    "    }\n",
    "\n",
    "    # KNN\n",
    "    results['Model'].append('KNN Classifer')\n",
    "    results['Train Accuracy'].append(knn_train_acc)\n",
    "    results['Train F1 Score'].append(knn_train_f1)\n",
    "    results['Validation Accuracy'].append(knn_val_acc)\n",
    "    results['Validation F1 Score'].append(knn_val_f1)\n",
    "    results['Test Accuracy'].append(knn_test_acc)\n",
    "    results['Test F1 Score'].append(knn_test_f1)\n",
    "\n",
    "    # Decision Tree\n",
    "    results['Model'].append('Decision Tree Classifer')\n",
    "    results['Train Accuracy'].append(dt_train_acc)\n",
    "    results['Train F1 Score'].append(dt_train_f1)\n",
    "    results['Validation Accuracy'].append(dt_val_acc)\n",
    "    results['Validation F1 Score'].append(dt_val_f1)\n",
    "    results['Test Accuracy'].append(dt_test_acc)\n",
    "    results['Test F1 Score'].append(dt_test_f1)\n",
    "\n",
    "    # SVM\n",
    "    results['Model'].append('SVM Classifer')\n",
    "    results['Train Accuracy'].append(svm_train_acc)\n",
    "    results['Train F1 Score'].append(svm_train_f1)\n",
    "    results['Validation Accuracy'].append(svm_val_acc)\n",
    "    results['Validation F1 Score'].append(svm_val_f1)\n",
    "    results['Test Accuracy'].append(svm_test_acc)\n",
    "    results['Test F1 Score'].append(svm_test_f1)\n",
    "\n",
    "    # Random Forest\n",
    "    results['Model'].append('Random Forest Classifer')\n",
    "    results['Train Accuracy'].append(rf_train_acc)\n",
    "    results['Train F1 Score'].append(rf_train_f1)\n",
    "    results['Validation Accuracy'].append(rf_val_acc)\n",
    "    results['Validation F1 Score'].append(rf_val_f1)\n",
    "    results['Test Accuracy'].append(rf_test_acc)\n",
    "    results['Test F1 Score'].append(rf_test_f1)\n",
    "\n",
    "    results_df = pd.DataFrame(results)\n",
    "    return results_df\n",
    "\n",
    "results_acc = evaluation_acc()\n",
    "results_acc"
   ]
  },
  {
   "cell_type": "code",
   "execution_count": 55,
   "metadata": {},
   "outputs": [
    {
     "data": {
      "text/html": [
       "<div>\n",
       "<style scoped>\n",
       "    .dataframe tbody tr th:only-of-type {\n",
       "        vertical-align: middle;\n",
       "    }\n",
       "\n",
       "    .dataframe tbody tr th {\n",
       "        vertical-align: top;\n",
       "    }\n",
       "\n",
       "    .dataframe thead th {\n",
       "        text-align: right;\n",
       "    }\n",
       "</style>\n",
       "<table border=\"1\" class=\"dataframe\">\n",
       "  <thead>\n",
       "    <tr style=\"text-align: right;\">\n",
       "      <th></th>\n",
       "      <th>Model</th>\n",
       "      <th>Training Time</th>\n",
       "      <th>Interface Time</th>\n",
       "    </tr>\n",
       "  </thead>\n",
       "  <tbody>\n",
       "    <tr>\n",
       "      <th>0</th>\n",
       "      <td>KNN Classifer</td>\n",
       "      <td>112.412161</td>\n",
       "      <td>20.092311</td>\n",
       "    </tr>\n",
       "    <tr>\n",
       "      <th>1</th>\n",
       "      <td>Decision Tree Classifer</td>\n",
       "      <td>39.542087</td>\n",
       "      <td>4.972221</td>\n",
       "    </tr>\n",
       "    <tr>\n",
       "      <th>2</th>\n",
       "      <td>SVM Classifer</td>\n",
       "      <td>1073.106694</td>\n",
       "      <td>140.963256</td>\n",
       "    </tr>\n",
       "    <tr>\n",
       "      <th>3</th>\n",
       "      <td>Random Forest Classifer</td>\n",
       "      <td>7440.354177</td>\n",
       "      <td>49.131598</td>\n",
       "    </tr>\n",
       "  </tbody>\n",
       "</table>\n",
       "</div>"
      ],
      "text/plain": [
       "                     Model  Training Time  Interface Time\n",
       "0            KNN Classifer     112.412161       20.092311\n",
       "1  Decision Tree Classifer      39.542087        4.972221\n",
       "2            SVM Classifer    1073.106694      140.963256\n",
       "3  Random Forest Classifer    7440.354177       49.131598"
      ]
     },
     "execution_count": 55,
     "metadata": {},
     "output_type": "execute_result"
    }
   ],
   "source": [
    "# show each models' training time and interface time\n",
    "def evaluation_time():\n",
    "    x_train,x_val,x_test,y_train,y_val,y_test,x_test_kaggle = normalized_and_split_data(data_train_df, test1_df, test2_df)\n",
    "\n",
    "    results = {\n",
    "        'Model': [],\n",
    "        'Training Time': [],\n",
    "        'Interface Time': []\n",
    "    }\n",
    "\n",
    "    # KNN\n",
    "    results['Model'].append('KNN Classifer')\n",
    "    results['Training Time'].append(knn_training_time)\n",
    "    results['Interface Time'].append(knn_interface_time)\n",
    "\n",
    "    # Decision Tree\n",
    "    results['Model'].append('Decision Tree Classifer')\n",
    "    results['Training Time'].append(DT_training_time)\n",
    "    results['Interface Time'].append(dt_inference_time)\n",
    "\n",
    "    # SVM\n",
    "    results['Model'].append('SVM Classifer')\n",
    "    results['Training Time'].append(svm_training_time)\n",
    "    results['Interface Time'].append(svm_inference_time)\n",
    "\n",
    "    # Random Forest\n",
    "    results['Model'].append('Random Forest Classifer')\n",
    "    results['Training Time'].append(RF_training_time)\n",
    "    results['Interface Time'].append(rf_inference_time)\n",
    "\n",
    "    results_df = pd.DataFrame(results)\n",
    "    return results_df\n",
    "\n",
    "results_time = evaluation_time()\n",
    "results_time"
   ]
  },
  {
   "cell_type": "markdown",
   "metadata": {},
   "source": [
    "### 4.1.8 Comparison"
   ]
  },
  {
   "cell_type": "markdown",
   "metadata": {},
   "source": [
    "Compare all classifiers with their optimized hyper-parameters, focusing on criteria such as classification performance, training time, and inference time. Visualization of these comparisons is required; use high-quality plots, figures, or tables to facilitate a clear understanding of the differences and strengths of each model."
   ]
  },
  {
   "cell_type": "code",
   "execution_count": 62,
   "metadata": {},
   "outputs": [
    {
     "data": {
      "image/png": "[encoded data removed]",
      "text/plain": [
       "<Figure size 1000x600 with 1 Axes>"
      ]
     },
     "metadata": {},
     "output_type": "display_data"
    }
   ],
   "source": [
    "# TODO: Compare performance of all models\n",
    "\n",
    "# Classifier Performance Comparison\n",
    "# Draw a bar chart for each indicator\n",
    "sns.set(style=\"whitegrid\")\n",
    "fig, ax = plt.subplots(figsize=(10, 6))\n",
    "metrics = ['Train Accuracy', 'Train F1 Score', 'Validation Accuracy', 'Validation F1 Score', 'Test Accuracy', 'Test F1 Score']\n",
    "results_acc.plot(x='Model', y=metrics, kind='bar', ax=ax)\n",
    "\n",
    "# Set title and tags\n",
    "plt.title('Classifier Performance Comparison')\n",
    "plt.ylabel('Score')\n",
    "plt.xticks(rotation=0)\n",
    "plt.legend(loc='lower right')\n",
    "\n",
    "# Show bar Chart\n",
    "plt.show()\n"
   ]
  },
  {
   "cell_type": "code",
   "execution_count": 63,
   "metadata": {},
   "outputs": [
    {
     "data": {
      "image/png": "[encoded data removed]",
      "text/plain": [
       "<Figure size 1000x600 with 1 Axes>"
      ]
     },
     "metadata": {},
     "output_type": "display_data"
    }
   ],
   "source": [
    "# Classifier Time Consumption Comparison\n",
    "# Draw a line chart for each indicator\n",
    "sns.set(style=\"whitegrid\")\n",
    "fig, ax = plt.subplots(figsize=(10, 6))\n",
    "metrics = ['Training Time', 'Interface Time']\n",
    "for metric in metrics:\n",
    "    ax.plot(results_time['Model'], results_time[metric], marker='o', label=metric)\n",
    "\n",
    "# Set title and tags\n",
    "plt.title('Classifier Time Consumption Comparison')\n",
    "plt.ylabel('Seconds')\n",
    "plt.xlabel('Model')\n",
    "plt.xticks(rotation=0)\n",
    "plt.legend(loc='upper left')\n",
    "plt.grid(True)\n",
    "\n",
    "# Show line Chart\n",
    "plt.show()"
   ]
  },
  {
   "cell_type": "markdown",
   "metadata": {},
   "source": [
    "### 4.1.9 The Best Classifier"
   ]
  },
  {
   "cell_type": "markdown",
   "metadata": {},
   "source": [
    "Conclude the best classifier"
   ]
  },
  {
   "cell_type": "code",
   "execution_count": 68,
   "metadata": {},
   "outputs": [],
   "source": [
    "# TODO: Train and test the classifier which has the best performance\n",
    "\n",
    "def train_best_model(x_train,y_train,x_val,y_val,x_test,y_test):\n",
    "    #SVM with best parameters\n",
    "    best_svm = SVC(kernel='rbf', gamma='scale', C=100)\n",
    "    best_svm.fit(x_train, y_train)\n",
    "\n",
    "    # predict\n",
    "    y_train_pred = best_svm.predict(x_train)\n",
    "    y_val_pred = best_svm.predict(x_val)\n",
    "    y_test_pred = best_svm.predict(x_test)\n",
    "\n",
    "    # accuracy\n",
    "    train_acc = accuracy_score(y_train,y_train_pred)\n",
    "    val_acc = accuracy_score(y_val,y_val_pred)\n",
    "    test_acc = accuracy_score(y_test,y_test_pred)\n",
    "\n",
    "    # Calculate the precision, recall, and F1 score on the train set\n",
    "    train_precision = precision_score(y_train, y_train_pred, average='weighted')\n",
    "    train_recall = recall_score(y_train, y_train_pred, average='weighted')\n",
    "    train_f1 = f1_score(y_train, y_train_pred, average='weighted')\n",
    "\n",
    "    # Calculate the precision, recall, and F1 score on the validation set\n",
    "    val_precision = precision_score(y_val, y_val_pred, average='weighted')\n",
    "    val_recall = recall_score(y_val, y_val_pred, average='weighted')\n",
    "    val_f1 = f1_score(y_val, y_val_pred, average='weighted')\n",
    "\n",
    "    # Calculate the precision, recall, and F1 score on the test set\n",
    "    test_precision = precision_score(y_test, y_test_pred, average='weighted')\n",
    "    test_recall = recall_score(y_test, y_test_pred, average='weighted')\n",
    "    test_f1 = f1_score(y_test, y_test_pred, average='weighted')\n",
    "    \n",
    "    # print\n",
    "    print(f\"Train Accuracy: {train_acc:.4f}, Precision: {train_precision:.4f}, Recall: {train_recall:.4f}, F1 Score: {train_f1:.4f}\")\n",
    "    print(f\"Validation Accuracy: {val_acc:.4f}, Precision: {val_precision:.4f}, Recall: {val_recall:.4f}, F1 Score: {val_f1:.4f}\")\n",
    "    print(f\"Test Accuracy: {test_acc:.4f}, Precision: {test_precision:.4f}, Recall: {test_recall:.4f}, F1 Score: {test_f1:.4f}\")\n",
    "\n",
    "    return  best_svm\n"
   ]
  },
  {
   "cell_type": "code",
   "execution_count": 69,
   "metadata": {},
   "outputs": [
    {
     "name": "stdout",
     "output_type": "stream",
     "text": [
      "Train Accuracy: 1.0000, Precision: 1.0000, Recall: 1.0000, F1 Score: 1.0000\n",
      "Validation Accuracy: 0.8910, Precision: 0.8906, Recall: 0.8910, F1 Score: 0.8907\n",
      "Test Accuracy: 0.8925, Precision: 0.8922, Recall: 0.8925, F1 Score: 0.8919\n"
     ]
    }
   ],
   "source": [
    "best_classifer = train_best_model(x_train,y_train,x_val,y_val,x_test,y_test)"
   ]
  },
  {
   "cell_type": "markdown",
   "metadata": {},
   "source": [
    "### 4.1.10 Loading testing data"
   ]
  },
  {
   "cell_type": "markdown",
   "metadata": {},
   "source": [
    "Load the testing data for prediction"
   ]
  },
  {
   "cell_type": "code",
   "execution_count": 70,
   "metadata": {},
   "outputs": [],
   "source": [
    "# test2.csv includes 5000 samples used for label prediction. Test samples do not have labels.\n",
    "data_test_df = pd.read_csv('./data/test2.csv', index_col=0)"
   ]
  },
  {
   "cell_type": "code",
   "execution_count": 71,
   "metadata": {},
   "outputs": [
    {
     "data": {
      "text/html": [
       "<div>\n",
       "<style scoped>\n",
       "    .dataframe tbody tr th:only-of-type {\n",
       "        vertical-align: middle;\n",
       "    }\n",
       "\n",
       "    .dataframe tbody tr th {\n",
       "        vertical-align: top;\n",
       "    }\n",
       "\n",
       "    .dataframe thead th {\n",
       "        text-align: right;\n",
       "    }\n",
       "</style>\n",
       "<table border=\"1\" class=\"dataframe\">\n",
       "  <thead>\n",
       "    <tr style=\"text-align: right;\">\n",
       "      <th></th>\n",
       "      <th>v1</th>\n",
       "      <th>v2</th>\n",
       "      <th>v3</th>\n",
       "      <th>v4</th>\n",
       "      <th>v5</th>\n",
       "      <th>...</th>\n",
       "      <th>v780</th>\n",
       "      <th>v781</th>\n",
       "      <th>v782</th>\n",
       "      <th>v783</th>\n",
       "      <th>v784</th>\n",
       "    </tr>\n",
       "    <tr>\n",
       "      <th>id</th>\n",
       "      <th></th>\n",
       "      <th></th>\n",
       "      <th></th>\n",
       "      <th></th>\n",
       "      <th></th>\n",
       "      <th></th>\n",
       "      <th></th>\n",
       "      <th></th>\n",
       "      <th></th>\n",
       "      <th></th>\n",
       "      <th></th>\n",
       "    </tr>\n",
       "  </thead>\n",
       "  <tbody>\n",
       "    <tr>\n",
       "      <th>1</th>\n",
       "      <td>0</td>\n",
       "      <td>0</td>\n",
       "      <td>0</td>\n",
       "      <td>0</td>\n",
       "      <td>0</td>\n",
       "      <td>...</td>\n",
       "      <td>0</td>\n",
       "      <td>0</td>\n",
       "      <td>0</td>\n",
       "      <td>0</td>\n",
       "      <td>0</td>\n",
       "    </tr>\n",
       "    <tr>\n",
       "      <th>2</th>\n",
       "      <td>0</td>\n",
       "      <td>0</td>\n",
       "      <td>0</td>\n",
       "      <td>0</td>\n",
       "      <td>0</td>\n",
       "      <td>...</td>\n",
       "      <td>0</td>\n",
       "      <td>0</td>\n",
       "      <td>0</td>\n",
       "      <td>0</td>\n",
       "      <td>0</td>\n",
       "    </tr>\n",
       "    <tr>\n",
       "      <th>3</th>\n",
       "      <td>0</td>\n",
       "      <td>0</td>\n",
       "      <td>0</td>\n",
       "      <td>0</td>\n",
       "      <td>0</td>\n",
       "      <td>...</td>\n",
       "      <td>0</td>\n",
       "      <td>0</td>\n",
       "      <td>0</td>\n",
       "      <td>0</td>\n",
       "      <td>0</td>\n",
       "    </tr>\n",
       "    <tr>\n",
       "      <th>4</th>\n",
       "      <td>0</td>\n",
       "      <td>0</td>\n",
       "      <td>1</td>\n",
       "      <td>0</td>\n",
       "      <td>2</td>\n",
       "      <td>...</td>\n",
       "      <td>0</td>\n",
       "      <td>0</td>\n",
       "      <td>0</td>\n",
       "      <td>0</td>\n",
       "      <td>0</td>\n",
       "    </tr>\n",
       "    <tr>\n",
       "      <th>5</th>\n",
       "      <td>0</td>\n",
       "      <td>0</td>\n",
       "      <td>0</td>\n",
       "      <td>0</td>\n",
       "      <td>0</td>\n",
       "      <td>...</td>\n",
       "      <td>0</td>\n",
       "      <td>0</td>\n",
       "      <td>0</td>\n",
       "      <td>0</td>\n",
       "      <td>0</td>\n",
       "    </tr>\n",
       "  </tbody>\n",
       "</table>\n",
       "<p>5 rows × 784 columns</p>\n",
       "</div>"
      ],
      "text/plain": [
       "    v1  v2  v3  v4  v5  ...  v780  v781  v782  v783  v784\n",
       "id                      ...                              \n",
       "1    0   0   0   0   0  ...     0     0     0     0     0\n",
       "2    0   0   0   0   0  ...     0     0     0     0     0\n",
       "3    0   0   0   0   0  ...     0     0     0     0     0\n",
       "4    0   0   1   0   2  ...     0     0     0     0     0\n",
       "5    0   0   0   0   0  ...     0     0     0     0     0\n",
       "\n",
       "[5 rows x 784 columns]"
      ]
     },
     "execution_count": 71,
     "metadata": {},
     "output_type": "execute_result"
    }
   ],
   "source": [
    "# print out the first 5 rows of the test dataframe\n",
    "data_test_df.head()"
   ]
  },
  {
   "cell_type": "markdown",
   "metadata": {},
   "source": [
    "Use the your best classifier to make predictions for the test data. The predictions should be stored in a vector named `output`, with a length of 5000."
   ]
  },
  {
   "cell_type": "code",
   "execution_count": 79,
   "metadata": {},
   "outputs": [],
   "source": [
    "# TODO: Use your best classifier to make predictions on unseen data. The output of this code must be a vector named 'output' of length 5000\n",
    "\n",
    "def pred_test2(best_model,features):\n",
    "    output = best_model.predict(features)\n",
    "    return output\n",
    "\n",
    "output = pred_test2(best_svm, x_test_kaggle)"
   ]
  },
  {
   "cell_type": "markdown",
   "metadata": {},
   "source": [
    "Save your prediction vector as a `test_output.csv` file, which contains two columns: `id` and `label`. Please refer to the `example_output.csv` for the structure of this output file. "
   ]
  },
  {
   "cell_type": "code",
   "execution_count": 80,
   "metadata": {},
   "outputs": [
    {
     "data": {
      "text/html": [
       "<div>\n",
       "<style scoped>\n",
       "    .dataframe tbody tr th:only-of-type {\n",
       "        vertical-align: middle;\n",
       "    }\n",
       "\n",
       "    .dataframe tbody tr th {\n",
       "        vertical-align: top;\n",
       "    }\n",
       "\n",
       "    .dataframe thead th {\n",
       "        text-align: right;\n",
       "    }\n",
       "</style>\n",
       "<table border=\"1\" class=\"dataframe\">\n",
       "  <thead>\n",
       "    <tr style=\"text-align: right;\">\n",
       "      <th></th>\n",
       "      <th>label</th>\n",
       "    </tr>\n",
       "  </thead>\n",
       "  <tbody>\n",
       "    <tr>\n",
       "      <th>0</th>\n",
       "      <td>3</td>\n",
       "    </tr>\n",
       "    <tr>\n",
       "      <th>1</th>\n",
       "      <td>7</td>\n",
       "    </tr>\n",
       "    <tr>\n",
       "      <th>2</th>\n",
       "      <td>3</td>\n",
       "    </tr>\n",
       "    <tr>\n",
       "      <th>3</th>\n",
       "      <td>0</td>\n",
       "    </tr>\n",
       "    <tr>\n",
       "      <th>4</th>\n",
       "      <td>9</td>\n",
       "    </tr>\n",
       "    <tr>\n",
       "      <th>...</th>\n",
       "      <td>...</td>\n",
       "    </tr>\n",
       "    <tr>\n",
       "      <th>4995</th>\n",
       "      <td>3</td>\n",
       "    </tr>\n",
       "    <tr>\n",
       "      <th>4996</th>\n",
       "      <td>7</td>\n",
       "    </tr>\n",
       "    <tr>\n",
       "      <th>4997</th>\n",
       "      <td>1</td>\n",
       "    </tr>\n",
       "    <tr>\n",
       "      <th>4998</th>\n",
       "      <td>7</td>\n",
       "    </tr>\n",
       "    <tr>\n",
       "      <th>4999</th>\n",
       "      <td>5</td>\n",
       "    </tr>\n",
       "  </tbody>\n",
       "</table>\n",
       "<p>5000 rows × 1 columns</p>\n",
       "</div>"
      ],
      "text/plain": [
       "      label\n",
       "0         3\n",
       "1         7\n",
       "2         3\n",
       "3         0\n",
       "4         9\n",
       "...     ...\n",
       "4995      3\n",
       "4996      7\n",
       "4997      1\n",
       "4998      7\n",
       "4999      5\n",
       "\n",
       "[5000 rows x 1 columns]"
      ]
     },
     "execution_count": 80,
     "metadata": {},
     "output_type": "execute_result"
    }
   ],
   "source": [
    "output_df = pd.DataFrame(output, columns = ['label'])\n",
    "output_df.to_csv('./test_output.csv', sep=\",\", float_format='%d',index_label=\"id\")\n",
    "output_df"
   ]
  },
  {
   "cell_type": "markdown",
   "metadata": {},
   "source": [
    "## 4.2 Report"
   ]
  },
  {
   "cell_type": "markdown",
   "metadata": {},
   "source": [
    "The report must be structured into the following key sections:\n",
    "\n",
    "1. **Introduction**: Provide a comprehensive overview of the dataset, outline the methods chosen, and summarize the key findings and results.\n",
    "2. **Methodology**: Describe pre-processing techniques and ML algorithms employed in this assignment. Include a discussion of the theoretical principles underlying each method and explain the rationale behind your choices.\n",
    "3. **Result and Discussion**: Detail the experimental settings (e.g., implementation strategies, hyperparameter finetuning strategies, etc.). Present the results obtained from the selected algorithms and discuss their implications. Compare the performance of all models, considering factors such as accuracy, model complexity, training time, and inference time. Employ high-quality plots, figures, and tables to visually support and enhance the discussion of these results.\n",
    "4. **Conclusion**: Summarize your main findings, mention any limitations methods and results and suggest potential directions for future works.\n",
    "5. **References**: include the references cited in your report in a consistent format."
   ]
  },
  {
   "cell_type": "markdown",
   "metadata": {},
   "source": [
    "##### Important Notes\n",
    "\n",
    "- The maximum length of the main report is 8 pages (excluding appendix and references).\n",
    "\n",
    "-  You must include an appendix that clearly provides the instructions on how to setup the environment to run your code, especialy the installation guide and version of any external packages and\n",
    "libraries used for implementation. In addition, you should include the hardware configurations used for the coding environment.\n",
    "\n",
    "- The report must be in PDF format. Make sure the report is well-structured, easy to read, and that it presents your findings in a logical and organized way.\n"
   ]
  },
  {
   "cell_type": "markdown",
   "metadata": {},
   "source": [
    "# 5. Submission Guidelines"
   ]
  },
  {
   "cell_type": "markdown",
   "metadata": {},
   "source": [
    "## 5.1 Group Registration"
   ]
  },
  {
   "cell_type": "markdown",
   "metadata": {},
   "source": [
    "For this assignment, you can work in groups of TWO. Please register your group under *People → Group → A1.1-Group* or *People → Group → A1.2-Group* on Canvas (We have created two separate group sets to accommodate the large number of students enrolled in this course).  \n",
    "\n",
    "**The group registration should be done by Friday, Aug 30th, 2024.**"
   ]
  },
  {
   "cell_type": "markdown",
   "metadata": {},
   "source": [
    "## 5.2 Submit your work"
   ]
  },
  {
   "cell_type": "markdown",
   "metadata": {},
   "source": [
    "### 5.2.1 Submit to Kaggle"
   ]
  },
  {
   "cell_type": "markdown",
   "metadata": {},
   "source": [
    "We use the Kaggle leaderboard for evaluating the results predicted by your models on unseen data. Follow the steps below to submit your work to the Kaggle leaderboard.\n",
    "\n",
    "Kaggle link: [https://www.kaggle.com/competitions/comp-4318-5318-2024-s-2-a-1/](https://www.kaggle.com/competitions/comp-4318-5318-2024-s-2-a-1/)\n",
    "\n",
    "1. Use the [Kaggle link](https://www.kaggle.com/competitions/comp-4318-5318-2024-s-2-a-1/) to join the competition, you need to create a Kaggle account if you don’t\n",
    "have one.\n",
    "\n",
    "2. Go to Team $\\rightarrow$ Use your registered Group ID on Canvas as your team name (e.g., `A1.1-Group 1`). You can create a Kaggle team with up to 2 members.\n",
    "   \n",
    "3. Go to Description $\\rightarrow$ Check the IMPORTANT NOTES for the assignment.\n",
    "   \n",
    "4. Submit Predictions $\\rightarrow$ Follow the submission format and submit your prediction output file (`test_output.csv`).\n",
    "   \n",
    "5. Leaderboard $\\rightarrow$ Check your accuracy score at the Leaderboard.\n",
    "\n",
    "In summary, go to [Kaggle Page](https://www.kaggle.com/competitions/comp-4318-5318-2024-s-2-a-1/) $\\rightarrow$ Join Competition $\\rightarrow$ Create a Team $\\rightarrow$ Submit Predictions $\\rightarrow$ Submit file `test_output.csv`\n",
    "\n",
    "IMPORTANT: This link is only available to the students of COMP4318/5318. All groups need to submit `test_output.csv` to Kaggle for marking puporse. Only 5 submissions are allowed per day\n",
    "for Kaggle. Group ID on Canvas and Kaggle have to be identical otherwise the submission will not be marked for the Accuracy part.\n",
    "\n"
   ]
  },
  {
   "cell_type": "markdown",
   "metadata": {},
   "source": [
    "### 5.2.2 Submit to Canvas"
   ]
  },
  {
   "cell_type": "markdown",
   "metadata": {},
   "source": [
    "#### Proceed to the submission box on Canvas and submit 4 files separately as follows:"
   ]
  },
  {
   "cell_type": "markdown",
   "metadata": {},
   "source": [
    "   1. A `.pdf` report file.\n",
    "\n",
    "   2. An `.ipynb` code file: a Jupyter Notebook containing all your implementation. You can reuse the provided `.ipynb` template.\n",
    "    \n",
    "   3. A `.pdf` code file: this file is exported from the `.ipynb` file for checking plagiarism. \n",
    "\n",
    "   4. A `test_output.csv` file: contains the predictions made by your best classifier on unseen data. This file must be consistent with the one submitted on Kaggle.\n",
    "\n",
    "There are two different submission boxes for the different group sets: *Assignment 1 - Submission (for A1.1-Group)* and *Assignment 1 - Submission (for A1.2-Group)*. Please ensure you submit to the correct box corresponding to your group ID."
   ]
  },
  {
   "cell_type": "markdown",
   "metadata": {},
   "source": [
    "##### File Naming Conventions \n",
    "\n",
    "The submission files should be named with your group ID and all student ID (SID) separated by the underscore (_). For example,\n",
    "\n",
    "- a1_groupID_SID1_SID2.ipynb (code) \n",
    "  \n",
    "- a1_groupID_SID1_SID2.pdf (pdf version of the code)\n",
    "  \n",
    "- a1_groupID_SID1_SID2_report.pdf (report)\n",
    "  \n",
    "where SID1 and SID2 are the SIDs of the two students.\n"
   ]
  },
  {
   "cell_type": "markdown",
   "metadata": {},
   "source": [
    "##### Important Notes:\n",
    "-\tOnly one group member needs to submit the assignment on behalf of the group.\n",
    "\n",
    "-\tDo NOT submit the dataset or zip files to Canvas. We will copy the `data` folder to the same directory with your `.ipynb` file to run your code. Please make sure your code is able to read the dataset from this folder.\n",
    "\n",
    "-\tBoth the code and report will be checked for plagiarism."
   ]
  },
  {
   "cell_type": "markdown",
   "metadata": {},
   "source": [
    "##### Other guidelines\n",
    "\n",
    "1.\tPlease refer to lecture notes, lab materials, and other course resources for different ML methods. \n",
    "\n",
    "2.\tPlease proceed your own way if we do not specify it in the assignment details.\n",
    "\n",
    "3.\tYou can use any packages or code which have been introduced in lectures or tutorials. If you use any other packages or code snippets, please put the reference at the bottom of the code. Otherwise, it will be considered as plagiarism and the relevant section will not be marked.\n"
   ]
  },
  {
   "cell_type": "markdown",
   "metadata": {},
   "source": [
    "## 5.3 Late Submission Penalties"
   ]
  },
  {
   "cell_type": "markdown",
   "metadata": {},
   "source": [
    "##### A penalty of MINUS 5 percent (-5%) for each day after the due date. \n",
    "The maximum delay for assignment submission is 5 (five) days, after which assignment will not be accepted.\n",
    "\n",
    "**You should upload your assignment at least half a day or one day prior to the submission deadline to avoid network congestion**.\n",
    "\n",
    "Canvas and Kaggle may not be able to handle a large number of submission happening at the same time. If you submit your assignment at a time close to the deadline, a submission error may occur causing your submission to be considered late. Penalty will be applied to late submission regardless of issues. "
   ]
  },
  {
   "cell_type": "markdown",
   "metadata": {},
   "source": [
    "##### All files required for assignment 1 can be downloaded from Canvas $\\rightarrow$ Assignments $\\rightarrow$ Assignment 1 - Specification\n"
   ]
  },
  {
   "cell_type": "markdown",
   "metadata": {},
   "source": [
    "## 5.4 Marking Rubric"
   ]
  },
  {
   "cell_type": "markdown",
   "metadata": {},
   "source": [
    "Please refer to the rubric, which is available in the submission boxes on Canvas, for detailed marking scheme."
   ]
  },
  {
   "cell_type": "markdown",
   "metadata": {},
   "source": [
    "# 6. Inquiries after releasing the marking"
   ]
  },
  {
   "cell_type": "markdown",
   "metadata": {},
   "source": [
    "**After Assignment 1 marks come out, please submit your inquiries about marking within the 1st week. All inquiries after that will be ignored.**"
   ]
  },
  {
   "cell_type": "markdown",
   "metadata": {},
   "source": [
    "# 7. Academic honesty"
   ]
  },
  {
   "cell_type": "markdown",
   "metadata": {},
   "source": [
    "Please read the University policy on Academic Honesty very carefully: \n",
    "https://sydney.edu.au/students/academic-integrity.html"
   ]
  },
  {
   "cell_type": "markdown",
   "metadata": {},
   "source": [
    "Plagiarism (copying from another student, website or other sources), making your work available to another student to copy, engaging another person to complete the assignments instead of you (for payment or not) are all examples of academic dishonesty. Note that when there is copying between students, both students are penalised – the student who copies and the student who makes his/her work available for copying. The University penalties are severe and include: \n",
    "\n",
    "    * a permanent record of academic dishonesty on your student file, \n",
    "    * mark deduction, ranging from 0 for the assignment to Fail for the course\n",
    "    * expulsion from the University and cancelling of your student visa. \n",
    "\n",
    "In addition, the Australian Government passed a new legislation last year (Prohibiting Academic Cheating Services Bill) that makes it a criminal offence to provide or advertise academic cheating services - the provision or undertaking of work for students which forms a substantial part of a student’s assessment task. Do not confuse legitimate co-operation and cheating!"
   ]
  }
 ],
 "metadata": {
  "anaconda-cloud": {},
  "kernelspec": {
   "display_name": "Python 3 (ipykernel)",
   "language": "python",
   "name": "python3"
  },
  "language_info": {
   "codemirror_mode": {
    "name": "ipython",
    "version": 3
   },
   "file_extension": ".py",
   "mimetype": "text/x-python",
   "name": "python",
   "nbconvert_exporter": "python",
   "pygments_lexer": "ipython3",
   "version": "3.12.4"
  }
 },
 "nbformat": 4,
 "nbformat_minor": 2
}
